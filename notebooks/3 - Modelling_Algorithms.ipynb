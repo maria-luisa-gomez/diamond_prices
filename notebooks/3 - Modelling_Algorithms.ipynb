{
 "cells": [
  {
   "cell_type": "markdown",
   "id": "980b61e3",
   "metadata": {},
   "source": [
    "# Modelling Algorithms"
   ]
  },
  {
   "cell_type": "code",
   "execution_count": 4,
   "id": "d0203306",
   "metadata": {},
   "outputs": [],
   "source": [
    "# Import your libraries:\n",
    "\n",
    "\n",
    "import os\n",
    "\n",
    "%matplotlib inline\n",
    "\n",
    "import numpy as np\n",
    "import pandas as pd\n",
    "from sklearn import metrics\n",
    "import re\n",
    "\n",
    "import sys\n",
    "sys.path.append('../')\n",
    "\n",
    "import re\n",
    "from math import sqrt\n",
    "from sklearn.model_selection import cross_val_score\n",
    "from sklearn.linear_model import LinearRegression\n",
    "from sklearn.tree import DecisionTreeRegressor\n",
    "from sklearn.model_selection import GridSearchCV\n",
    "from sklearn.model_selection import RandomizedSearchCV\n",
    "from sklearn.model_selection import GridSearchCV\n",
    "from sklearn.model_selection import train_test_split\n",
    "from sklearn.preprocessing import MinMaxScaler , StandardScaler\n",
    "from sklearn.ensemble import RandomForestRegressor,BaggingRegressor,GradientBoostingRegressor,AdaBoostRegressor\n",
    "from sklearn.linear_model import LinearRegression\n",
    "from sklearn.neighbors import KNeighborsRegressor\n",
    "from sklearn.svm import SVR\n",
    "from xgboost import XGBRegressor\n",
    "import xgboost as xgb\n",
    "from xgboost import cv\n",
    "from sklearn.metrics import mean_squared_log_error,mean_squared_error, r2_score, mean_absolute_error \n",
    "\n",
    "\n",
    "import seaborn as sns\n",
    "\n",
    "import matplotlib as mpl\n",
    "import matplotlib.pyplot as plt\n",
    "\n",
    "import warnings\n",
    "\n",
    "warnings.filterwarnings('ignore')\n",
    "\n",
    "\n",
    "\n",
    "\n",
    "# https://www.kaggle.com/c/diamonds-datamad0921"
   ]
  },
  {
   "cell_type": "code",
   "execution_count": 5,
   "id": "4a43137d",
   "metadata": {},
   "outputs": [],
   "source": [
    "diamonds_df_train = pd.read_csv(\"../data/train_clean.csv\")"
   ]
  },
  {
   "cell_type": "code",
   "execution_count": 6,
   "id": "3264f199",
   "metadata": {},
   "outputs": [],
   "source": [
    "diamonds_df_test = pd.read_csv(\"../data/test_clean.csv\")"
   ]
  },
  {
   "cell_type": "code",
   "execution_count": 7,
   "id": "888897e1",
   "metadata": {},
   "outputs": [
    {
     "name": "stdout",
     "output_type": "stream",
     "text": [
      "<class 'pandas.core.frame.DataFrame'>\n",
      "RangeIndex: 40455 entries, 0 to 40454\n",
      "Data columns (total 23 columns):\n",
      " #   Column         Non-Null Count  Dtype  \n",
      "---  ------         --------------  -----  \n",
      " 0   carat          40455 non-null  float64\n",
      " 1   x              40455 non-null  float64\n",
      " 2   y              40455 non-null  float64\n",
      " 3   z              40455 non-null  float64\n",
      " 4   price          40455 non-null  float64\n",
      " 5   volume         40455 non-null  float64\n",
      " 6   cut_Good       40455 non-null  int64  \n",
      " 7   cut_Ideal      40455 non-null  int64  \n",
      " 8   cut_Premium    40455 non-null  int64  \n",
      " 9   cut_Very Good  40455 non-null  int64  \n",
      " 10  color_E        40455 non-null  int64  \n",
      " 11  color_F        40455 non-null  int64  \n",
      " 12  color_G        40455 non-null  int64  \n",
      " 13  color_H        40455 non-null  int64  \n",
      " 14  color_I        40455 non-null  int64  \n",
      " 15  color_J        40455 non-null  int64  \n",
      " 16  clarity_IF     40455 non-null  int64  \n",
      " 17  clarity_SI1    40455 non-null  int64  \n",
      " 18  clarity_SI2    40455 non-null  int64  \n",
      " 19  clarity_VS1    40455 non-null  int64  \n",
      " 20  clarity_VS2    40455 non-null  int64  \n",
      " 21  clarity_VVS1   40455 non-null  int64  \n",
      " 22  clarity_VVS2   40455 non-null  int64  \n",
      "dtypes: float64(6), int64(17)\n",
      "memory usage: 7.1 MB\n"
     ]
    }
   ],
   "source": [
    "diamonds_df_train.info()"
   ]
  },
  {
   "cell_type": "code",
   "execution_count": null,
   "id": "b259e41f",
   "metadata": {},
   "outputs": [],
   "source": [
    "# diamonds_df_test.info()"
   ]
  },
  {
   "cell_type": "code",
   "execution_count": 8,
   "id": "cfa741a6",
   "metadata": {},
   "outputs": [],
   "source": [
    "\n",
    "# Collect all RMSE Scores.\n",
    "\n",
    "RMSE_Scores = []\n",
    "models = ['Linear Regression' , 'Decision Tree','RandomForest Regression','XGBoost. GridSearching Bayesian','KNeighbours Regression','Suppot Vector Machine']"
   ]
  },
  {
   "cell_type": "markdown",
   "id": "808935e3",
   "metadata": {},
   "source": [
    "## 1. Linear Regression"
   ]
  },
  {
   "cell_type": "code",
   "execution_count": 9,
   "id": "cccb9916",
   "metadata": {},
   "outputs": [],
   "source": [
    "X = diamonds_df_train.drop('price', axis=1)"
   ]
  },
  {
   "cell_type": "code",
   "execution_count": 10,
   "id": "124fdf79",
   "metadata": {},
   "outputs": [
    {
     "data": {
      "text/plain": [
       "(40455, 22)"
      ]
     },
     "execution_count": 10,
     "metadata": {},
     "output_type": "execute_result"
    }
   ],
   "source": [
    "X.shape"
   ]
  },
  {
   "cell_type": "code",
   "execution_count": 11,
   "id": "487ad1cd",
   "metadata": {},
   "outputs": [],
   "source": [
    "y = diamonds_df_train.price"
   ]
  },
  {
   "cell_type": "markdown",
   "id": "3037265b",
   "metadata": {},
   "source": [
    "#### Apply Feature Scaling although it's not neccessary in this case. But it surely helps."
   ]
  },
  {
   "cell_type": "code",
   "execution_count": 12,
   "id": "80041b14",
   "metadata": {},
   "outputs": [],
   "source": [
    "sc = MinMaxScaler()"
   ]
  },
  {
   "cell_type": "code",
   "execution_count": 13,
   "id": "b816471b",
   "metadata": {},
   "outputs": [],
   "source": [
    "# usamos 20% test\n",
    "X_train, X_test, y_train, y_test = train_test_split(X, y, test_size=0.2)"
   ]
  },
  {
   "cell_type": "code",
   "execution_count": 14,
   "id": "9e634bb0",
   "metadata": {},
   "outputs": [],
   "source": [
    "X_train = sc.fit_transform(X_train)\n",
    "X_test = sc.transform(X_test)"
   ]
  },
  {
   "cell_type": "code",
   "execution_count": 15,
   "id": "f595f2be",
   "metadata": {},
   "outputs": [
    {
     "name": "stdout",
     "output_type": "stream",
     "text": [
      "\n",
      "####### Linear Regression #######\n",
      "Score : 0.7872\n",
      "[0.96314691 0.98343924 0.98361664 0.98348665 0.98216703]\n",
      "\n",
      "MSE    : 0.22 \n",
      "MAE    : 0.11 \n",
      "RMSE   : 0.47 \n",
      "R2     : 0.79 \n"
     ]
    },
    {
     "name": "stderr",
     "output_type": "stream",
     "text": [
      "[Parallel(n_jobs=1)]: Using backend SequentialBackend with 1 concurrent workers.\n",
      "[Parallel(n_jobs=1)]: Done   5 out of   5 | elapsed:    0.1s finished\n"
     ]
    }
   ],
   "source": [
    "lr = LinearRegression()\n",
    "lr.fit(X_train , y_train)\n",
    "accuracies = cross_val_score(estimator = lr, X = X_train, y = y_train, cv = 5,verbose = 1)\n",
    "y_pred = lr.predict(X_test)\n",
    "print('')\n",
    "print('####### Linear Regression #######')\n",
    "print('Score : %.4f' % lr.score(X_test, y_test))\n",
    "print(accuracies)\n",
    "\n",
    "mse = mean_squared_error(y_test, y_pred)\n",
    "mae = mean_absolute_error(y_test, y_pred)\n",
    "rmse_lr = mean_squared_error(y_test, y_pred)**0.5\n",
    "r2 = r2_score(y_test, y_pred)\n",
    "\n",
    "print('')\n",
    "print('MSE    : %0.2f ' % mse)\n",
    "print('MAE    : %0.2f ' % mae)\n",
    "print('RMSE   : %0.2f ' % rmse_lr)\n",
    "print('R2     : %0.2f ' % r2)\n",
    "\n",
    "\n",
    "RMSE_Scores.append(rmse_lr)"
   ]
  },
  {
   "cell_type": "markdown",
   "id": "cc7b6fd3",
   "metadata": {},
   "source": [
    "## 2. Decission Tree"
   ]
  },
  {
   "cell_type": "code",
   "execution_count": 16,
   "id": "5cfab232",
   "metadata": {},
   "outputs": [
    {
     "name": "stderr",
     "output_type": "stream",
     "text": [
      "[Parallel(n_jobs=1)]: Using backend SequentialBackend with 1 concurrent workers.\n"
     ]
    },
    {
     "name": "stdout",
     "output_type": "stream",
     "text": [
      "\n",
      "###### Decision Tree ######\n",
      "Score : 0.9804\n",
      "[0.9780656  0.97681831 0.98138271 0.97806781 0.97872551]\n",
      "\n",
      "MSE    : 0.02 \n",
      "MAE    : 0.09 \n",
      "RMSE   : 0.14 \n",
      "R2     : 0.98 \n"
     ]
    },
    {
     "name": "stderr",
     "output_type": "stream",
     "text": [
      "[Parallel(n_jobs=1)]: Done   5 out of   5 | elapsed:    0.9s finished\n"
     ]
    }
   ],
   "source": [
    "clf_dt = DecisionTreeRegressor()\n",
    "clf_dt.fit(X_train , y_train)\n",
    "accuracies = cross_val_score(estimator = clf_dt, X = X_train, y = y_train, cv = 5,verbose = 1)\n",
    "y_pred = clf_dt.predict(X_test)\n",
    "print('')\n",
    "print('###### Decision Tree ######')\n",
    "print('Score : %.4f' % clf_dt.score(X_test, y_test))\n",
    "print(accuracies)\n",
    "\n",
    "mse = mean_squared_error(y_test, y_pred)\n",
    "mae = mean_absolute_error(y_test, y_pred)\n",
    "rmse_dt = mean_squared_error(y_test, y_pred)**0.5\n",
    "r2 = r2_score(y_test, y_pred)\n",
    "\n",
    "print('')\n",
    "print('MSE    : %0.2f ' % mse)\n",
    "print('MAE    : %0.2f ' % mae)\n",
    "print('RMSE   : %0.2f ' % rmse_dt)\n",
    "print('R2     : %0.2f ' % r2)\n",
    "\n",
    "\n",
    "RMSE_Scores.append(rmse_dt)"
   ]
  },
  {
   "cell_type": "markdown",
   "id": "300becab",
   "metadata": {},
   "source": [
    "### Tuning Parameters"
   ]
  },
  {
   "cell_type": "code",
   "execution_count": 17,
   "id": "d03ffccc",
   "metadata": {},
   "outputs": [],
   "source": [
    "g_cv = GridSearchCV(DecisionTreeRegressor(),\n",
    "                    param_grid={\n",
    "                        \"max_depth\": [2, 3, 7],\n",
    "                        \"min_samples_split\": [30, 50, 100],\n",
    "\n",
    "                        \n",
    "                    },\n",
    "                    scoring = \"neg_mean_squared_error\", \n",
    "                    refit = \"neg_mean_squared_error\",\n",
    "                    cv=5, \n",
    "                    return_train_score = True)\n",
    "#                     verbose = 2"
   ]
  },
  {
   "cell_type": "code",
   "execution_count": 18,
   "id": "9262bbcd",
   "metadata": {},
   "outputs": [
    {
     "data": {
      "text/plain": [
       "GridSearchCV(cv=5, estimator=DecisionTreeRegressor(),\n",
       "             param_grid={'max_depth': [2, 3, 7],\n",
       "                         'min_samples_split': [30, 50, 100]},\n",
       "             refit='neg_mean_squared_error', return_train_score=True,\n",
       "             scoring='neg_mean_squared_error')"
      ]
     },
     "execution_count": 18,
     "metadata": {},
     "output_type": "execute_result"
    }
   ],
   "source": [
    "g_cv.fit(X_train, y_train)"
   ]
  },
  {
   "cell_type": "code",
   "execution_count": 19,
   "id": "e438fe29",
   "metadata": {},
   "outputs": [],
   "source": [
    "best_tree = g_cv.best_estimator_"
   ]
  },
  {
   "cell_type": "code",
   "execution_count": 20,
   "id": "0aebf443",
   "metadata": {},
   "outputs": [
    {
     "name": "stdout",
     "output_type": "stream",
     "text": [
      "RMSE : 0.19 \n"
     ]
    }
   ],
   "source": [
    "rmse_train = round(sqrt(mean_squared_error(best_tree.predict(X_train), y_train)),5)\n",
    "print('RMSE : %0.2f ' % rmse_train)"
   ]
  },
  {
   "cell_type": "code",
   "execution_count": 21,
   "id": "a7e8d196",
   "metadata": {},
   "outputs": [
    {
     "name": "stdout",
     "output_type": "stream",
     "text": [
      "RMSE : 0.20 \n"
     ]
    }
   ],
   "source": [
    "rmse_test = round(sqrt(mean_squared_error(best_tree.predict(X_test), y_test)),4)\n",
    "print('RMSE : %0.2f ' % rmse_test)"
   ]
  },
  {
   "cell_type": "markdown",
   "id": "1f045c4b",
   "metadata": {},
   "source": [
    "## 3. RandomForest Regression"
   ]
  },
  {
   "cell_type": "code",
   "execution_count": 22,
   "id": "bd957986",
   "metadata": {},
   "outputs": [
    {
     "name": "stderr",
     "output_type": "stream",
     "text": [
      "[Parallel(n_jobs=1)]: Using backend SequentialBackend with 1 concurrent workers.\n",
      "[Parallel(n_jobs=1)]: Done   5 out of   5 | elapsed:   57.6s finished\n"
     ]
    },
    {
     "name": "stdout",
     "output_type": "stream",
     "text": [
      "\n",
      "###### Random Forest ######\n",
      "Score : 0.9894\n",
      "[0.98825375 0.98703862 0.98893906 0.98822774 0.98772586]\n",
      "\n",
      "MSE    : 0.01 \n",
      "MAE    : 0.07 \n",
      "RMSE   : 0.11 \n",
      "R2     : 0.99 \n"
     ]
    }
   ],
   "source": [
    "clf_rf = RandomForestRegressor()\n",
    "clf_rf.fit(X_train , y_train)\n",
    "accuracies = cross_val_score(estimator = clf_rf, X = X_train, y = y_train, cv = 5,verbose = 1)\n",
    "y_pred = clf_rf.predict(X_test)\n",
    "print('')\n",
    "print('###### Random Forest ######')\n",
    "print('Score : %.4f' % clf_rf.score(X_test, y_test))\n",
    "print(accuracies)\n",
    "\n",
    "mse = mean_squared_error(y_test, y_pred)\n",
    "mae = mean_absolute_error(y_test, y_pred)\n",
    "rmse_rf = mean_squared_error(y_test, y_pred)**0.5\n",
    "r2 = r2_score(y_test, y_pred)\n",
    "\n",
    "print('')\n",
    "print('MSE    : %0.2f ' % mse)\n",
    "print('MAE    : %0.2f ' % mae)\n",
    "print('RMSE   : %0.2f ' % rmse_rf)\n",
    "print('R2     : %0.2f ' % r2)\n",
    "\n",
    "RMSE_Scores.append(rmse_rf)"
   ]
  },
  {
   "cell_type": "markdown",
   "id": "c6058749",
   "metadata": {},
   "source": [
    "### Tunning Parameters"
   ]
  },
  {
   "cell_type": "code",
   "execution_count": 23,
   "id": "dffaf0a3",
   "metadata": {},
   "outputs": [
    {
     "name": "stdout",
     "output_type": "stream",
     "text": [
      "R2     : 0.99 \n",
      "RMSE     : 0.11 \n"
     ]
    }
   ],
   "source": [
    "no_of_test=[100]\n",
    "params_dict={'n_estimators':no_of_test,'n_jobs':[-1],'max_features':[\"auto\",'sqrt','log2']}\n",
    "clf_rf=GridSearchCV(estimator = RandomForestRegressor(),param_grid=params_dict, scoring='neg_root_mean_squared_error')\n",
    "clf_rf.fit(X_train,y_train)\n",
    "pred = clf_rf.predict(X_test)\n",
    "r2 = r2_score(y_test, pred)\n",
    "rmse = mean_squared_error(y_test, pred)**0.5\n",
    "print('R2     : %0.2f ' % r2)\n",
    "print('RMSE     : %0.2f ' % rmse)\n"
   ]
  },
  {
   "cell_type": "markdown",
   "id": "44455dfc",
   "metadata": {},
   "source": [
    "## 4. XGBoost. GridSearching Bayesian"
   ]
  },
  {
   "cell_type": "code",
   "execution_count": 24,
   "id": "1cec6aa8",
   "metadata": {},
   "outputs": [],
   "source": [
    "from hyperopt import fmin, hp, tpe, Trials, space_eval, STATUS_OK\n",
    "from hyperopt.pyll import scope as ho_scope\n",
    "from hyperopt.pyll.stochastic import sample as ho_sample"
   ]
  },
  {
   "cell_type": "code",
   "execution_count": 25,
   "id": "769037b9",
   "metadata": {},
   "outputs": [],
   "source": [
    "xgbr = xgb.XGBRegressor()"
   ]
  },
  {
   "cell_type": "code",
   "execution_count": 26,
   "id": "1d05a9b7",
   "metadata": {},
   "outputs": [],
   "source": [
    "space = {\n",
    "    \n",
    "    'n_estimators': hp.quniform('n_estimators', 10, 1000, 25), # uniforme discreta de 10 a 1000 en saltos de 25\n",
    "    \n",
    "    'learning_rate': hp.uniform('learning_rate', 0.0001, 1.0), # uniforme continua entre 0.0001 y 1\n",
    "    \n",
    "    'gamma': hp.uniform('x_gamma', 0.1, 0.5)\n",
    "}"
   ]
  },
  {
   "cell_type": "code",
   "execution_count": 27,
   "id": "8da62942",
   "metadata": {},
   "outputs": [],
   "source": [
    "def objetivo(space):\n",
    "    \n",
    "    modelo = xgb.XGBRegressor(n_estimators=int(space['n_estimators']),\n",
    "                            learning_rate=space['learning_rate'],\n",
    "                            gamma = space['gamma'],\n",
    "                            objective='reg:squarederror'\n",
    "                           )\n",
    "    \n",
    "    eval_set = [(X_train, y_train), (X_test, y_test)]\n",
    "    \n",
    "    modelo.fit(X_train, y_train, eval_set = eval_set, eval_metric = 'rmse', verbose=False)\n",
    "    \n",
    "    y_pred = modelo.predict(X_test)\n",
    "    \n",
    "    rmse_boost = mean_squared_error(y_test, y_pred)**0.5\n",
    "    \n",
    "    return {'loss': rmse_boost, 'status': STATUS_OK}"
   ]
  },
  {
   "cell_type": "code",
   "execution_count": 28,
   "id": "9d2301b0",
   "metadata": {},
   "outputs": [
    {
     "name": "stdout",
     "output_type": "stream",
     "text": [
      "100%|█████████| 10/10 [01:12<00:00,  7.25s/trial, best loss: 0.1036714007237022]\n"
     ]
    },
    {
     "data": {
      "text/plain": [
       "{'learning_rate': 0.4280480897702921,\n",
       " 'n_estimators': 300.0,\n",
       " 'x_gamma': 0.1275444402775237}"
      ]
     },
     "execution_count": 28,
     "metadata": {},
     "output_type": "execute_result"
    }
   ],
   "source": [
    "mejor = fmin(fn = objetivo, space = space, algo = tpe.suggest, max_evals=10, trials=Trials())\n",
    "\n",
    "mejor"
   ]
  },
  {
   "cell_type": "code",
   "execution_count": 29,
   "id": "8d10d7cd",
   "metadata": {},
   "outputs": [],
   "source": [
    "modelo=xgb.XGBRegressor(n_estimators=int(mejor['n_estimators']), \n",
    "                       learning_rate=mejor['learning_rate'], \n",
    "                       gamma=mejor['x_gamma'],\n",
    "                       objective='reg:squarederror')"
   ]
  },
  {
   "cell_type": "code",
   "execution_count": 30,
   "id": "0ecfba61",
   "metadata": {},
   "outputs": [
    {
     "data": {
      "text/plain": [
       "XGBRegressor(base_score=0.5, booster='gbtree', colsample_bylevel=1,\n",
       "             colsample_bynode=1, colsample_bytree=1, gamma=0.1275444402775237,\n",
       "             gpu_id=-1, importance_type='gain', interaction_constraints='',\n",
       "             learning_rate=0.4280480897702921, max_delta_step=0, max_depth=6,\n",
       "             min_child_weight=1, missing=nan, monotone_constraints='()',\n",
       "             n_estimators=300, n_jobs=8, num_parallel_tree=1, random_state=0,\n",
       "             reg_alpha=0, reg_lambda=1, scale_pos_weight=1, subsample=1,\n",
       "             tree_method='exact', validate_parameters=1, verbosity=None)"
      ]
     },
     "execution_count": 30,
     "metadata": {},
     "output_type": "execute_result"
    }
   ],
   "source": [
    "modelo.fit(X_train, y_train)"
   ]
  },
  {
   "cell_type": "code",
   "execution_count": 31,
   "id": "6c15532f",
   "metadata": {},
   "outputs": [
    {
     "name": "stdout",
     "output_type": "stream",
     "text": [
      "RMSE     : 0.10 \n"
     ]
    }
   ],
   "source": [
    "y_pred=modelo.predict(X_test)\n",
    "\n",
    "rmse_boost = round((mean_squared_error(y_test, y_pred)**0.5),3)\n",
    "print('RMSE     : %0.2f ' % rmse_boost)\n",
    "\n",
    "RMSE_Scores.append(rmse_boost)"
   ]
  },
  {
   "cell_type": "markdown",
   "id": "7a142c13",
   "metadata": {},
   "source": [
    "## 5. KNeighbours Regression"
   ]
  },
  {
   "cell_type": "code",
   "execution_count": 32,
   "id": "b7b1606d",
   "metadata": {},
   "outputs": [
    {
     "name": "stderr",
     "output_type": "stream",
     "text": [
      "[Parallel(n_jobs=1)]: Using backend SequentialBackend with 1 concurrent workers.\n",
      "[Parallel(n_jobs=1)]: Done   5 out of   5 | elapsed:   18.9s finished\n"
     ]
    },
    {
     "name": "stdout",
     "output_type": "stream",
     "text": [
      "\n",
      "###### KNeighbours Regression ######\n",
      "Score : 0.9800\n",
      "[0.97736687 0.97803116 0.97788779 0.9775341  0.97867565]\n",
      "\n",
      "MSE    : 0.02 \n",
      "MAE    : 0.09 \n",
      "RMSE   : 0.11 \n",
      "R2     : 0.98 \n"
     ]
    }
   ],
   "source": [
    "clf_knn = KNeighborsRegressor()\n",
    "clf_knn.fit(X_train , y_train)\n",
    "accuracies = cross_val_score(estimator = clf_knn, X = X_train, y = y_train, cv = 5,verbose = 1)\n",
    "clf_knn.fit(X_train,y_train)\n",
    "y_pred = clf_knn.predict(X_test)\n",
    "print('')\n",
    "print('###### KNeighbours Regression ######')\n",
    "print('Score : %.4f' % clf_knn.score(X_test, y_test))\n",
    "print(accuracies)\n",
    "\n",
    "mse = mean_squared_error(y_test, y_pred)\n",
    "mae = mean_absolute_error(y_test, y_pred)\n",
    "rmse_kn = mean_squared_error(y_test, y_pred)**0.5\n",
    "r2 = r2_score(y_test, y_pred)\n",
    "\n",
    "print('')\n",
    "print('MSE    : %0.2f ' % mse)\n",
    "print('MAE    : %0.2f ' % mae)\n",
    "print('RMSE   : %0.2f ' % rmse)\n",
    "print('R2     : %0.2f ' % r2)\n",
    "\n",
    "RMSE_Scores.append(rmse_kn)"
   ]
  },
  {
   "cell_type": "code",
   "execution_count": 33,
   "id": "2444b731",
   "metadata": {},
   "outputs": [
    {
     "name": "stdout",
     "output_type": "stream",
     "text": [
      "RMSE     : 0.14 \n"
     ]
    }
   ],
   "source": [
    "n_neighbors=[]\n",
    "for i in range (0,50,5):\n",
    "    if(i!=0):\n",
    "        n_neighbors.append(i)\n",
    "params_dict={'n_neighbors':n_neighbors,'n_jobs':[-1]}\n",
    "clf_knn=GridSearchCV(estimator=KNeighborsRegressor(),param_grid=params_dict,scoring='neg_root_mean_squared_error')\n",
    "clf_knn.fit(X_train,y_train)\n",
    "pred=clf_knn.predict(X_test)\n",
    "rmse_kn2 = mean_squared_error(y_test, pred)**0.5\n",
    "print('RMSE     : %0.2f ' % rmse_kn2)\n"
   ]
  },
  {
   "cell_type": "markdown",
   "id": "34304f4b",
   "metadata": {},
   "source": [
    "## 6. Support Vector Machine"
   ]
  },
  {
   "cell_type": "code",
   "execution_count": 34,
   "id": "0fe6290b",
   "metadata": {},
   "outputs": [],
   "source": [
    "from sklearn.svm import SVR\n",
    "regressor = SVR(kernel='rbf')\n",
    "regressor.fit(X_train,y_train)\n",
    "y_pred = regressor.predict(X_test)"
   ]
  },
  {
   "cell_type": "code",
   "execution_count": 35,
   "id": "91e12846",
   "metadata": {},
   "outputs": [
    {
     "name": "stdout",
     "output_type": "stream",
     "text": [
      "RMSE     : 0.12 \n"
     ]
    }
   ],
   "source": [
    "rmse_svr = mean_squared_error(y_test, y_pred)**0.5\n",
    "print('RMSE     : %0.2f ' % rmse_svr)\n",
    "RMSE_Scores.append(rmse_svr)"
   ]
  },
  {
   "cell_type": "code",
   "execution_count": 36,
   "id": "2d754801",
   "metadata": {},
   "outputs": [
    {
     "data": {
      "text/html": [
       "<div>\n",
       "<style scoped>\n",
       "    .dataframe tbody tr th:only-of-type {\n",
       "        vertical-align: middle;\n",
       "    }\n",
       "\n",
       "    .dataframe tbody tr th {\n",
       "        vertical-align: top;\n",
       "    }\n",
       "\n",
       "    .dataframe thead th {\n",
       "        text-align: right;\n",
       "    }\n",
       "</style>\n",
       "<table border=\"1\" class=\"dataframe\">\n",
       "  <thead>\n",
       "    <tr style=\"text-align: right;\">\n",
       "      <th></th>\n",
       "      <th>Algorithms</th>\n",
       "      <th>RMSE_Scores</th>\n",
       "    </tr>\n",
       "  </thead>\n",
       "  <tbody>\n",
       "    <tr>\n",
       "      <th>3</th>\n",
       "      <td>XGBoost. GridSearching Bayesian</td>\n",
       "      <td>0.104000</td>\n",
       "    </tr>\n",
       "    <tr>\n",
       "      <th>2</th>\n",
       "      <td>RandomForest Regression</td>\n",
       "      <td>0.105328</td>\n",
       "    </tr>\n",
       "    <tr>\n",
       "      <th>5</th>\n",
       "      <td>Suppot Vector Machine</td>\n",
       "      <td>0.122656</td>\n",
       "    </tr>\n",
       "    <tr>\n",
       "      <th>1</th>\n",
       "      <td>Decision Tree</td>\n",
       "      <td>0.143383</td>\n",
       "    </tr>\n",
       "    <tr>\n",
       "      <th>4</th>\n",
       "      <td>KNeighbours Regression</td>\n",
       "      <td>0.144794</td>\n",
       "    </tr>\n",
       "    <tr>\n",
       "      <th>0</th>\n",
       "      <td>Linear Regression</td>\n",
       "      <td>0.471991</td>\n",
       "    </tr>\n",
       "  </tbody>\n",
       "</table>\n",
       "</div>"
      ],
      "text/plain": [
       "                        Algorithms  RMSE_Scores\n",
       "3  XGBoost. GridSearching Bayesian     0.104000\n",
       "2          RandomForest Regression     0.105328\n",
       "5            Suppot Vector Machine     0.122656\n",
       "1                    Decision Tree     0.143383\n",
       "4           KNeighbours Regression     0.144794\n",
       "0                Linear Regression     0.471991"
      ]
     },
     "execution_count": 36,
     "metadata": {},
     "output_type": "execute_result"
    }
   ],
   "source": [
    "compare = pd.DataFrame({'Algorithms' : models , 'RMSE_Scores' : RMSE_Scores})\n",
    "compare.sort_values(by = 'RMSE_Scores' ,ascending=True)"
   ]
  },
  {
   "cell_type": "code",
   "execution_count": null,
   "id": "698f6a48",
   "metadata": {},
   "outputs": [],
   "source": [
    "# X_test2 = diamonds_df_test"
   ]
  },
  {
   "cell_type": "code",
   "execution_count": null,
   "id": "d1c7e5f5",
   "metadata": {},
   "outputs": [],
   "source": [
    "# X_test2 = sc.transform(X_test2)"
   ]
  },
  {
   "cell_type": "code",
   "execution_count": null,
   "id": "c256a88b",
   "metadata": {},
   "outputs": [],
   "source": [
    "# y_pred = lr.predict(X_test2)"
   ]
  },
  {
   "cell_type": "code",
   "execution_count": null,
   "id": "ba4c5d0b",
   "metadata": {},
   "outputs": [],
   "source": [
    "# diamonds_df_test['price'] = y_pred"
   ]
  },
  {
   "cell_type": "code",
   "execution_count": null,
   "id": "865fd865",
   "metadata": {
    "scrolled": true
   },
   "outputs": [],
   "source": [
    "# diamonds_df_test.head()"
   ]
  },
  {
   "cell_type": "code",
   "execution_count": null,
   "id": "f5a22038",
   "metadata": {},
   "outputs": [],
   "source": [
    "# diamonds_df_test = diamonds_df_test.drop([\"carat\", \"depth\", \"table\", \"x\", \"y\", \"z\", \"cut_Premium\", \"cut_Good\",\"cut_Ideal\", \"cut_Very Good\",\"color_E\",\"color_F\",\"color_G\",\"color_H\", \"color_I\", \"color_J\", \"clarity_SI2\", \"clarity_IF\", \"clarity_SI1\", \"clarity_VS1\", \"clarity_VS2\", \"clarity_VVS1\", \"clarity_VVS2\"], axis=1)"
   ]
  },
  {
   "cell_type": "code",
   "execution_count": null,
   "id": "bd114f70",
   "metadata": {},
   "outputs": [],
   "source": [
    "# diamonds_df_test.head()"
   ]
  },
  {
   "cell_type": "code",
   "execution_count": null,
   "id": "72d9b0d5",
   "metadata": {},
   "outputs": [],
   "source": [
    "# diamonds_df_test[\"id\"] = diamonds_df_test.index"
   ]
  },
  {
   "cell_type": "code",
   "execution_count": null,
   "id": "57e56cd8",
   "metadata": {},
   "outputs": [],
   "source": [
    "# diamonds_df_test = diamonds_df_test.reindex(columns=['id','price'])"
   ]
  },
  {
   "cell_type": "code",
   "execution_count": null,
   "id": "4d0af67c",
   "metadata": {},
   "outputs": [],
   "source": [
    "# diamonds_df_test.shape"
   ]
  },
  {
   "cell_type": "code",
   "execution_count": null,
   "id": "81028a9e",
   "metadata": {},
   "outputs": [],
   "source": [
    "# diamonds_df_test.head()"
   ]
  },
  {
   "cell_type": "code",
   "execution_count": null,
   "id": "8f106bfe",
   "metadata": {},
   "outputs": [],
   "source": [
    "# diamonds_df_test.to_csv(\"train.csv\", index = False)"
   ]
  }
 ],
 "metadata": {
  "kernelspec": {
   "display_name": "Python 3 (ipykernel)",
   "language": "python",
   "name": "python3"
  },
  "language_info": {
   "codemirror_mode": {
    "name": "ipython",
    "version": 3
   },
   "file_extension": ".py",
   "mimetype": "text/x-python",
   "name": "python",
   "nbconvert_exporter": "python",
   "pygments_lexer": "ipython3",
   "version": "3.9.2"
  }
 },
 "nbformat": 4,
 "nbformat_minor": 5
}
